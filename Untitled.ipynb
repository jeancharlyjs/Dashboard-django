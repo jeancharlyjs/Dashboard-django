{
 "cells": [
  {
   "cell_type": "markdown",
   "id": "c447cc76",
   "metadata": {},
   "source": [
    "# Funcion de Distribucion de Probabilidades\n",
    "\n",
    "## Distribucion Uniforme"
   ]
  },
  {
   "cell_type": "code",
   "execution_count": 2,
   "id": "fb796196",
   "metadata": {},
   "outputs": [],
   "source": [
    "# Importanciones\n",
    "\n",
    "    # Numpy\n",
    "from numpy import random\n",
    "\n",
    "\n",
    "    # Matplotlib\n",
    "import matplotlib.pyplot as plt"
   ]
  },
  {
   "cell_type": "code",
   "execution_count": 20,
   "id": "8bc609dd",
   "metadata": {},
   "outputs": [
    {
     "data": {
      "text/plain": [
       "(array([ 99995.,  99633., 100166., 100045., 100073.,  99885., 100306.,\n",
       "         99880.,  99943., 100074.]),\n",
       " array([ 1.0001101 , 10.90009706, 20.80008402, 30.70007098, 40.60005794,\n",
       "        50.5000449 , 60.40003186, 70.30001882, 80.20000578, 90.09999274,\n",
       "        99.9999797 ]),\n",
       " <BarContainer object of 10 artists>)"
      ]
     },
     "execution_count": 20,
     "metadata": {},
     "output_type": "execute_result"
    },
    {
     "data": {
      "image/png": "[encoded data removed]",
      "text/plain": [
       "<Figure size 432x288 with 1 Axes>"
      ]
     },
     "metadata": {
      "needs_background": "light"
     },
     "output_type": "display_data"
    }
   ],
   "source": [
    "a = 1 #Limite inferior\n",
    "b = 100 # Limite Superior\n",
    "n = 1000000 #Numero de muestra\n",
    "\n",
    "datos = random.uniform(a, b, n)\n",
    "datos\n",
    "%matplotlib inline\n",
    "plt.hist(datos)"
   ]
  }
 ],
 "metadata": {
  "kernelspec": {
   "display_name": "Python 3",
   "language": "python",
   "name": "python3"
  },
  "language_info": {
   "codemirror_mode": {
    "name": "ipython",
    "version": 3
   },
   "file_extension": ".py",
   "mimetype": "text/x-python",
   "name": "python",
   "nbconvert_exporter": "python",
   "pygments_lexer": "ipython3",
   "version": "3.8.8"
  }
 },
 "nbformat": 4,
 "nbformat_minor": 5
}
